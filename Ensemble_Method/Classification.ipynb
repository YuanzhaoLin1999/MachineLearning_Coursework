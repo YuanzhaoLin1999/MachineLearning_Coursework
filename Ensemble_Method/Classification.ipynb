{
 "cells": [
  {
   "cell_type": "code",
   "execution_count": 6,
   "metadata": {},
   "outputs": [],
   "source": [
    "import numpy as np\n",
    "import matplotlib.pyplot as plt\n",
    "from time import time\n",
    "\n",
    "from sklearn.ensemble import AdaBoostClassifier\n",
    "from sklearn.ensemble import BaggingClassifier\n",
    "from sklearn.tree import DecisionTreeClassifier\n",
    "from sklearn.datasets import load_breast_cancer\n",
    "from sklearn.metrics import classification_report\n",
    "from sklearn.model_selection import cross_val_score\n",
    "from sklearn.datasets import load_wine"
   ]
  },
  {
   "cell_type": "code",
   "execution_count": 14,
   "metadata": {},
   "outputs": [
    {
     "name": "stdout",
     "output_type": "stream",
     "text": [
      "the consequence of Bagging:\n",
      "time cost 0.07787775993347168 s\n",
      "10-folds validation' score: 0.9473684210526315 0.8333333333333334 0.9444444444444444 0.9444444444444444 1.0 1.0 1.0 0.9444444444444444 1.0 1.0\n",
      "average score is  0.9614035087719298\n"
     ]
    }
   ],
   "source": [
    "t= time()\n",
    "X = load_wine().data\n",
    "y = load_wine().target\n",
    "#bdt = AdaBoostClassifier(BaggingClassifier(), n_estimators = 200)\n",
    "#bdt = AdaBoostClassifier()\n",
    "bdt = BaggingClassifier()\n",
    "#bdt = BaggingClassifier(AdaBoostClassifier(), max_samples = 0.63, max_features = 0.63)\n",
    "\n",
    "bdt.fit(X, y)\n",
    "time_end=time()\n",
    "print('the consequence of Bagging:')\n",
    "print('time cost',time_end-t,'s')\n",
    "score = cross_val_score(bdt, X, y ,cv =10)\n",
    "print(\"10-folds validation' score:\", *score)\n",
    "av_s = 0\n",
    "for i in range(10):\n",
    "    av_s += score[i]\n",
    "av_s /= 10\n",
    "print('average score is ',av_s)"
   ]
  },
  {
   "cell_type": "code",
   "execution_count": null,
   "metadata": {},
   "outputs": [],
   "source": []
  }
 ],
 "metadata": {
  "kernelspec": {
   "display_name": "Python 3",
   "language": "python",
   "name": "python3"
  },
  "language_info": {
   "codemirror_mode": {
    "name": "ipython",
    "version": 3
   },
   "file_extension": ".py",
   "mimetype": "text/x-python",
   "name": "python",
   "nbconvert_exporter": "python",
   "pygments_lexer": "ipython3",
   "version": "3.7.1"
  }
 },
 "nbformat": 4,
 "nbformat_minor": 2
}
