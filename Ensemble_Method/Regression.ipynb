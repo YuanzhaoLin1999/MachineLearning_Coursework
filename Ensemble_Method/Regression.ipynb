{
 "cells": [
  {
   "cell_type": "code",
   "execution_count": 3,
   "metadata": {},
   "outputs": [],
   "source": [
    "import numpy as np \n",
    "import matplotlib.pyplot as plt\n",
    "from time import time\n",
    "from sklearn.ensemble import BaggingRegressor\n",
    "from sklearn.tree import DecisionTreeRegressor\n",
    "from sklearn.ensemble import AdaBoostRegressor\n",
    "from sklearn.datasets import load_boston #波士顿房价数据集，用于回归任务\n",
    "from sklearn.model_selection import cross_val_score\n",
    "from sklearn.model_selection import cross_validate"
   ]
  },
  {
   "cell_type": "markdown",
   "metadata": {},
   "source": [
    "## Boston"
   ]
  },
  {
   "cell_type": "code",
   "execution_count": 18,
   "metadata": {},
   "outputs": [
    {
     "name": "stdout",
     "output_type": "stream",
     "text": [
      "fit_time : [3.38371277 3.77452588 2.5226922  5.11922193 3.09603286 2.92399597\n",
      " 1.79948401 5.17675304 2.18786311 3.37482357]\n",
      "average fit_time : 3.3359105348587037\n",
      "score_time : [0.18600082 0.1954577  0.13338852 0.29759097 0.1731379  0.16368985\n",
      " 0.08237481 0.27971077 0.14185739 0.18348026]\n",
      "average score_time : 0.1836688995361328\n",
      "test_score : [ 0.67884041  0.55308727  0.61827886  0.72673365  0.72253332  0.53577157\n",
      " -0.6723319   0.33118727 -0.55082531 -0.10674343]\n",
      "average test_score : 0.28365317067657075\n",
      "train_score : [0.84581392 0.8318714  0.80494557 0.81575439 0.82916096 0.80647969\n",
      " 0.82379514 0.88365786 0.80890194 0.8088006 ]\n",
      "average train_score : 0.8259181467134209\n"
     ]
    }
   ],
   "source": [
    "t = time()\n",
    "boston = load_boston()\n",
    "X = boston.data\n",
    "y = boston.target\n",
    "depth = 2 \n",
    "n = 100\n",
    "\n",
    "#reg = AdaBoostRegressor(DecisionTreeRegressor(max_depth=depth),\n",
    "#                            n_estimators= n)\n",
    "#reg = BaggingRegressor(DecisionTreeRegressor(max_depth=depth),n_estimators=n)\n",
    "#reg = BaggingRegressor(AdaBoostRegressor(DecisionTreeRegressor(max_depth=depth),\n",
    "#                            n_estimators= n), n_estimators= n)\n",
    "reg = AdaBoostRegressor(BaggingRegressor(DecisionTreeRegressor(max_depth=depth),\n",
    "                           n_estimators=n), n_estimators= n)\n",
    "\n",
    "score = cross_validate(reg, X, y,cv =10,scoring= 'r2',return_train_score=True)\n",
    "for x in score:\n",
    "    print(x,\":\",score[x])\n",
    "    print('average',x,\":\",np.mean(score[x]))"
   ]
  },
  {
   "cell_type": "code",
   "execution_count": null,
   "metadata": {},
   "outputs": [],
   "source": [
    "fig = plt.figure()\n",
    "plt.plot(d_tree,'k--',label=\"DecisionTree\")\n",
    "plt.show()"
   ]
  },
  {
   "cell_type": "code",
   "execution_count": null,
   "metadata": {},
   "outputs": [],
   "source": []
  }
 ],
 "metadata": {
  "kernelspec": {
   "display_name": "Python 3",
   "language": "python",
   "name": "python3"
  },
  "language_info": {
   "codemirror_mode": {
    "name": "ipython",
    "version": 3
   },
   "file_extension": ".py",
   "mimetype": "text/x-python",
   "name": "python",
   "nbconvert_exporter": "python",
   "pygments_lexer": "ipython3",
   "version": "3.7.1"
  }
 },
 "nbformat": 4,
 "nbformat_minor": 2
}
