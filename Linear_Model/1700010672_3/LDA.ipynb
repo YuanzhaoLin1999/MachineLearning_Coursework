{
 "cells": [
  {
   "cell_type": "code",
   "execution_count": 1,
   "metadata": {},
   "outputs": [],
   "source": [
    "import numpy as np\n",
    "import pandas as pd \n",
    "import matplotlib.pyplot as plt\n",
    "from sklearn.discriminant_analysis import LinearDiscriminantAnalysis\n",
    "from sklearn import datasets\n",
    "from matplotlib import colors\n",
    "\n",
    "def loadData(filename):\n",
    "    \"\"\"默认csv文件第一行是列属性，以下每行是训练数据\n",
    "    并且数据的最后一列必然是数据的label\"\"\"\n",
    "    frame = pd.read_csv(filename)#读为DataFrame格式\n",
    "    labels = frame['label']#获取标记\n",
    "    attrset = list(frame.columns)\n",
    "    attrset.remove('label')\n",
    "    dataset = list(frame.values)\n",
    "    for i in range(frame.shape[0]):#遍历所有数据\n",
    "        dataset[i] = list(dataset[i])\n",
    "        dataset[i].pop()\n",
    "    return dataset, list(labels), attrset"
   ]
  },
  {
   "cell_type": "code",
   "execution_count": 27,
   "metadata": {},
   "outputs": [
    {
     "data": {
      "image/png": "[encoded data removed]",
      "text/plain": [
       "<Figure size 432x288 with 1 Axes>"
      ]
     },
     "metadata": {
      "needs_background": "light"
     },
     "output_type": "display_data"
    }
   ],
   "source": [
    "dataframe = pd.read_csv('data3.0alpha.csv')\n",
    "\n",
    "def plot_contours(ax, clf, xx, yy, **params):\n",
    "    Z = clf.predict(np.c_[xx.ravel(), yy.ravel()])\n",
    "    Z = Z.reshape(xx.shape)\n",
    "    out = ax.contourf(xx, yy, Z, **params)\n",
    "    return out\n",
    "\n",
    "Xp, Xn = [], [] \n",
    "for i in range(dataframe.shape[0]):\n",
    "    x = dataframe.loc[i]\n",
    "    if x['label'] == 1:\n",
    "        Xp.append(x[:2].values)\n",
    "    else: Xn.append(x[:2].values)\n",
    "Xp = np.array(Xp)\n",
    "Xn = np.array(Xn)\n",
    "clf = LinearDiscriminantAnalysis()\n",
    "fig = plt.figure(); ax = fig.add_subplot(1,1,1)\n",
    "plt.title('Linear Discriminant Analysis')\n",
    "plt.scatter(Xp[:, 0], Xp[:, 1], marker = '.', color='red')\n",
    "plt.scatter(Xn[:, 0], Xn[:, 1], marker = '.', color='blue')\n",
    "ax.set_xlim(0,1)\n",
    "ax.set_xlabel('density')\n",
    "ax.set_ylim(0,0.6)\n",
    "plt.show()"
   ]
  },
  {
   "cell_type": "code",
   "execution_count": null,
   "metadata": {},
   "outputs": [],
   "source": []
  }
 ],
 "metadata": {
  "kernelspec": {
   "display_name": "Python 3",
   "language": "python",
   "name": "python3"
  },
  "language_info": {
   "codemirror_mode": {
    "name": "ipython",
    "version": 3
   },
   "file_extension": ".py",
   "mimetype": "text/x-python",
   "name": "python",
   "nbconvert_exporter": "python",
   "pygments_lexer": "ipython3",
   "version": "3.7.1"
  }
 },
 "nbformat": 4,
 "nbformat_minor": 2
}
