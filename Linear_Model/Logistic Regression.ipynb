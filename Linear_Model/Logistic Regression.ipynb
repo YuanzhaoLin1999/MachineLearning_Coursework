{
 "cells": [
  {
   "cell_type": "code",
   "execution_count": 11,
   "metadata": {},
   "outputs": [
    {
     "name": "stdout",
     "output_type": "stream",
     "text": [
      "the mean accuracy on the given test data and labels of dataset iris is 0.9733333333333334\n",
      "the mean accuracy on the given test data and labels of dataset wine is 0.9662921348314607\n"
     ]
    },
    {
     "name": "stderr",
     "output_type": "stream",
     "text": [
      "L:\\Anaconda\\Anaconda\\lib\\site-packages\\sklearn\\linear_model\\logistic.py:758: ConvergenceWarning: lbfgs failed to converge. Increase the number of iterations.\n",
      "  \"of iterations.\", ConvergenceWarning)\n",
      "L:\\Anaconda\\Anaconda\\lib\\site-packages\\sklearn\\linear_model\\logistic.py:758: ConvergenceWarning: lbfgs failed to converge. Increase the number of iterations.\n",
      "  \"of iterations.\", ConvergenceWarning)\n"
     ]
    }
   ],
   "source": [
    "import numpy as np\n",
    "import pandas as pd \n",
    "import matplotlib.pyplot as plt\n",
    "from sklearn.linear_model import LogisticRegression\n",
    "from sklearn import datasets \n",
    "\n",
    "datas = [datasets.load_iris(), datasets.load_wine()]\n",
    "title = ['iris', 'wine']\n",
    "    \n",
    "for i in range(2):\n",
    "    row_data = datas[i]\n",
    "    data_name = title[i]\n",
    "    X, y = row_data.data, row_data.target\n",
    "    clf = LogisticRegression(random_state= 0, solver='lbfgs', \n",
    "                        multi_class = 'multinomial')\n",
    "    clf.fit(X, y)\n",
    "    print('the mean accuracy on the given test data and labels of dataset',      \n",
    "         data_name, 'is', clf.score(X, y))    "
   ]
  },
  {
   "cell_type": "code",
   "execution_count": 26,
   "metadata": {},
   "outputs": [
    {
     "name": "stdout",
     "output_type": "stream",
     "text": [
      "the mean accuracy using 10-folds cross validation is 0.98\n"
     ]
    }
   ],
   "source": [
    "from sklearn.linear_model import LogisticRegressionCV\n",
    "#交叉验证的函数实现起来也并不复杂，这里直接调用现成的包\n",
    "X, y = iris.data, iris.target\n",
    "clf = LogisticRegressionCV(cv = 50, random_state=0,max_iter=1000,\n",
    "                               solver = 'lbfgs',multi_class = 'multinomial')\n",
    "clf.fit(X, y)\n",
    "print('the mean accuracy using 10-folds cross validation',      \n",
    "         'is', clf.score(X,y))  \n"
   ]
  },
  {
   "cell_type": "code",
   "execution_count": 21,
   "metadata": {},
   "outputs": [
    {
     "name": "stdout",
     "output_type": "stream",
     "text": [
      "0.7058823529411765\n"
     ]
    }
   ],
   "source": [
    "def loadData(filename):\n",
    "    \"\"\"默认csv文件第一行是列属性，以下每行是训练数据\n",
    "    并且数据的最后一列必然是数据的label\"\"\"\n",
    "    frame = pd.read_csv(filename)#读为DataFrame格式\n",
    "    labels = frame['label']#获取标记\n",
    "    attrset = list(frame.columns)\n",
    "    attrset.remove('label')\n",
    "    dataset = list(frame.values)\n",
    "    for i in range(frame.shape[0]):#遍历所有数据\n",
    "        dataset[i] = list(dataset[i])\n",
    "        dataset[i].pop()\n",
    "    return dataset, list(labels), attrset\n",
    "\n",
    "X, y, labels = loadData(\"data3.0alpha.csv\")\n",
    "clf = LogisticRegression(random_state= 0, solver='lbfgs', \n",
    "                        multi_class = 'multinomial')\n",
    "clf.fit(X, y)\n",
    "print(clf.score(X,y))"
   ]
  },
  {
   "cell_type": "code",
   "execution_count": null,
   "metadata": {},
   "outputs": [],
   "source": []
  }
 ],
 "metadata": {
  "kernelspec": {
   "display_name": "Python 3",
   "language": "python",
   "name": "python3"
  },
  "language_info": {
   "codemirror_mode": {
    "name": "ipython",
    "version": 3
   },
   "file_extension": ".py",
   "mimetype": "text/x-python",
   "name": "python",
   "nbconvert_exporter": "python",
   "pygments_lexer": "ipython3",
   "version": "3.7.1"
  }
 },
 "nbformat": 4,
 "nbformat_minor": 2
}
